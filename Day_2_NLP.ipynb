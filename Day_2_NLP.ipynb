{
  "nbformat": 4,
  "nbformat_minor": 0,
  "metadata": {
    "colab": {
      "provenance": [],
      "authorship_tag": "ABX9TyPTgRk4/hneX56/xAZzi8Af",
      "include_colab_link": true
    },
    "kernelspec": {
      "name": "python3",
      "display_name": "Python 3"
    },
    "language_info": {
      "name": "python"
    }
  },
  "cells": [
    {
      "cell_type": "markdown",
      "metadata": {
        "id": "view-in-github",
        "colab_type": "text"
      },
      "source": [
        "<a href=\"https://colab.research.google.com/github/Vibhor2196/Azure_Deployment/blob/main/Day_2_NLP.ipynb\" target=\"_parent\"><img src=\"https://colab.research.google.com/assets/colab-badge.svg\" alt=\"Open In Colab\"/></a>"
      ]
    },
    {
      "cell_type": "code",
      "execution_count": 19,
      "metadata": {
        "colab": {
          "base_uri": "https://localhost:8080/"
        },
        "id": "1spi8rdVBZ-E",
        "outputId": "0d0c1e36-f0ab-402c-d12a-47e65565dec1"
      },
      "outputs": [
        {
          "output_type": "stream",
          "name": "stdout",
          "text": [
            "['Natural', 'Language', 'Processing', 'is', 'so', 'awesome,', \"Isn't\", 'it?']\n",
            "[\"Isn't\", 'Language', 'Natural', 'Processing', 'awesome,', 'is', 'it?', 'so']\n",
            "8\n",
            "8\n",
            "[[0 0 0 0 0 0 0 0]\n",
            " [0 0 0 0 0 0 0 0]\n",
            " [0 0 0 0 0 0 0 0]\n",
            " [0 0 0 0 0 0 0 0]\n",
            " [0 0 0 0 0 0 0 0]\n",
            " [0 0 0 0 0 0 0 0]\n",
            " [0 0 0 0 0 0 0 0]\n",
            " [0 0 0 0 0 0 0 0]]\n",
            "   Isn't  Language  Natural  Processing  awesome,  is  it?  so\n",
            "0      0         0        1           0         0   0    0   0\n",
            "1      0         1        0           0         0   0    0   0\n",
            "2      0         0        0           1         0   0    0   0\n",
            "3      0         0        0           0         0   1    0   0\n",
            "4      0         0        0           0         0   0    0   1\n",
            "5      0         0        0           0         1   0    0   0\n",
            "6      1         0        0           0         0   0    0   0\n",
            "7      0         0        0           0         0   0    1   0\n",
            "Counter({'Natural': 1, 'Language': 1, 'Processing': 1, 'is': 1, 'so': 1, 'awesome,': 1, \"Isn't\": 1, 'it?': 1})\n"
          ]
        }
      ],
      "source": [
        "import numpy as np\n",
        "import pandas as pd\n",
        "import numpy as np\n",
        "\n",
        "\n",
        "\n",
        "sentence=\"Natural Language Processing is so awesome, Isn't it?\"\n",
        "\n",
        "\n",
        "#split sentence into tokens\n",
        "token_seq=sentence.split() #this method split the string in terms of whitespaces\n",
        "print(token_seq)\n",
        "\n",
        "unique_vocab=sorted(set(token_seq))\n",
        "print(unique_vocab)\n",
        "\n",
        "# create empty onehot-vector, rows => tokens, columns => unique vocab\n",
        "\n",
        "num_tokens=len(token_seq)\n",
        "size_vocab=len(unique_vocab)\n",
        "\n",
        "print(num_tokens)\n",
        "print(size_vocab)\n",
        "\n",
        "#one-hot vector\n",
        "one_hot_vector=np.zeros(shape=(num_tokens, size_vocab), \n",
        "    dtype=int\n",
        ")\n",
        "\n",
        "\n",
        "\n",
        "print(one_hot_vector)\n",
        "\n",
        "\n",
        "#iterate over token sequence build one hot vector\n",
        "for row,word in enumerate(token_seq):\n",
        "       col=unique_vocab.index(word)\n",
        "       one_hot_vector[row,col]=1\n",
        "\n",
        "# create dataframe with column names\n",
        "df_onehot = pd.DataFrame(\n",
        "    data=one_hot_vector,\n",
        "    columns=unique_vocab\n",
        ")\n",
        "\n",
        "print(df_onehot)\n",
        "       \n",
        "from collections import Counter\n",
        "#other way of doing it\n",
        "tokens=sentence.split()\n",
        "bow=Counter(tokens)\n",
        "print(bow)"
      ]
    }
  ]
}